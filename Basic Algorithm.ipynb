{
 "cells": [
  {
   "cell_type": "markdown",
   "metadata": {},
   "source": [
    "# 大O 复杂度表示"
   ]
  },
  {
   "cell_type": "markdown",
   "metadata": {},
   "source": [
    "1. 时间复杂度"
   ]
  },
  {
   "cell_type": "markdown",
   "metadata": {},
   "source": [
    "* 只关注循环执行次数最多的一段代码"
   ]
  },
  {
   "cell_type": "code",
   "execution_count": 1,
   "metadata": {
    "collapsed": true
   },
   "outputs": [],
   "source": [
    "# (i.e. O(n))\n",
    "def cal(n):\n",
    "    i = 1\n",
    "    sum = 0\n",
    "    for i in range(n):\n",
    "        sum = sum+i\n",
    "    return sum"
   ]
  },
  {
   "cell_type": "code",
   "execution_count": 2,
   "metadata": {},
   "outputs": [
    {
     "data": {
      "text/plain": [
       "45"
      ]
     },
     "execution_count": 2,
     "metadata": {},
     "output_type": "execute_result"
    }
   ],
   "source": [
    "cal(10)"
   ]
  },
  {
   "cell_type": "markdown",
   "metadata": {},
   "source": [
    "* 加法法则：总复杂度等于量级最大的那段代码的复杂度\n",
    "\n",
    "** O(n^2))**"
   ]
  },
  {
   "cell_type": "code",
   "execution_count": 12,
   "metadata": {
    "collapsed": true
   },
   "outputs": [],
   "source": [
    "\n",
    "def cal_sum(n):\n",
    "    sum1 = 0\n",
    "    p = 1\n",
    "    for p in range(100):\n",
    "        sum1=sum1+p\n",
    "        pass\n",
    "    \n",
    "    sum2 = 0\n",
    "    q = 1\n",
    "    for q in range(n):\n",
    "        sum2 = sum2+q\n",
    "        pass\n",
    "    \n",
    "    sum3 = 0\n",
    "    for i in range(n):\n",
    "        for j in range(n):\n",
    "            sum3 = sum3 + i*j\n",
    "            pass\n",
    "        pass\n",
    "    return sum1+sum2+sum3"
   ]
  },
  {
   "cell_type": "code",
   "execution_count": 11,
   "metadata": {},
   "outputs": [
    {
     "data": {
      "text/plain": [
       "7020"
      ]
     },
     "execution_count": 11,
     "metadata": {},
     "output_type": "execute_result"
    }
   ],
   "source": [
    "cal_sum(10)"
   ]
  },
  {
   "cell_type": "markdown",
   "metadata": {},
   "source": [
    "* 乘法法则：嵌套代码的复杂度等于前套内外代码复杂度的乘积\n",
    "\n",
    "** O(n^2)**"
   ]
  },
  {
   "cell_type": "code",
   "execution_count": 5,
   "metadata": {
    "collapsed": true
   },
   "outputs": [],
   "source": [
    "def f(n):\n",
    "    sum_ = 0\n",
    "    for i in range(n):\n",
    "        sum_ = sum_ +1\n",
    "        pass\n",
    "    return sum_"
   ]
  },
  {
   "cell_type": "code",
   "execution_count": 6,
   "metadata": {
    "collapsed": true
   },
   "outputs": [],
   "source": [
    "def cal_mul(n):\n",
    "    ret = 0\n",
    "    for i in range(n):\n",
    "        ret = ret+ f(i)\n",
    "        pass\n",
    "    return ret"
   ]
  },
  {
   "cell_type": "code",
   "execution_count": 7,
   "metadata": {},
   "outputs": [
    {
     "data": {
      "text/plain": [
       "45"
      ]
     },
     "execution_count": 7,
     "metadata": {},
     "output_type": "execute_result"
    }
   ],
   "source": [
    "cal_mul(10)"
   ]
  },
  {
   "cell_type": "markdown",
   "metadata": {},
   "source": [
    "* 常见的复杂度\n",
    "\n",
    "O(1), O(n), O(n^k), O(logn), O(nlogn)\n",
    "\n",
    "O(2^n), O(n!) NP问题"
   ]
  },
  {
   "cell_type": "markdown",
   "metadata": {},
   "source": [
    "** O(logn)**"
   ]
  },
  {
   "cell_type": "code",
   "execution_count": 48,
   "metadata": {},
   "outputs": [],
   "source": [
    "def Ologn(n):\n",
    "    i = 1\n",
    "    num = 0\n",
    "    while(i<=n):\n",
    "        i=i*2\n",
    "        num = num +1\n",
    "    return i,num"
   ]
  },
  {
   "cell_type": "code",
   "execution_count": 49,
   "metadata": {},
   "outputs": [
    {
     "data": {
      "text/plain": [
       "(131072, 17)"
      ]
     },
     "execution_count": 49,
     "metadata": {},
     "output_type": "execute_result"
    }
   ],
   "source": [
    "Ologn(100000)"
   ]
  },
  {
   "cell_type": "code",
   "execution_count": 50,
   "metadata": {
    "collapsed": true
   },
   "outputs": [],
   "source": [
    "def Olog3n(n):\n",
    "    i = 1\n",
    "    num = 0\n",
    "    while(i<=n):\n",
    "        i=i*3\n",
    "        num = num +1\n",
    "    return i,num"
   ]
  },
  {
   "cell_type": "code",
   "execution_count": 51,
   "metadata": {},
   "outputs": [
    {
     "data": {
      "text/plain": [
       "(177147, 11)"
      ]
     },
     "execution_count": 51,
     "metadata": {},
     "output_type": "execute_result"
    }
   ],
   "source": [
    "Olog3n(100000)"
   ]
  },
  {
   "cell_type": "markdown",
   "metadata": {},
   "source": [
    "** O(m+n) **"
   ]
  },
  {
   "cell_type": "code",
   "execution_count": 55,
   "metadata": {},
   "outputs": [],
   "source": [
    "def calmaddn(m,n):\n",
    "    sum_1 = 0\n",
    "    for i in range(m):\n",
    "        sum_1 = sum_1+i\n",
    "    \n",
    "    sum_2 =0\n",
    "    for j in range(n):\n",
    "        sum_2 = sum_2+j\n",
    "        \n",
    "    return sum_1+sum_2"
   ]
  },
  {
   "cell_type": "code",
   "execution_count": 56,
   "metadata": {},
   "outputs": [
    {
     "data": {
      "text/plain": [
       "4995"
      ]
     },
     "execution_count": 56,
     "metadata": {},
     "output_type": "execute_result"
    }
   ],
   "source": [
    "calmaddn(10,100)"
   ]
  },
  {
   "cell_type": "markdown",
   "metadata": {},
   "source": [
    "**Summary**"
   ]
  },
  {
   "cell_type": "markdown",
   "metadata": {},
   "source": [
    "![title](O.jpg)"
   ]
  },
  {
   "cell_type": "markdown",
   "metadata": {
    "collapsed": true
   },
   "source": [
    "# Binary search"
   ]
  },
  {
   "cell_type": "code",
   "execution_count": 57,
   "metadata": {
    "collapsed": true
   },
   "outputs": [],
   "source": [
    "def binary_search(alist,item):\n",
    "    low = 0\n",
    "    high = len(alist) -1\n",
    "    \n",
    "    while low <= high:\n",
    "        mid = (high+low)//2\n",
    "        guess = alist[mid]\n",
    "        if guess == item:\n",
    "            return mid\n",
    "        if guess > item:\n",
    "            high = mid -1\n",
    "        if guess < item:\n",
    "            low = mid +1\n",
    "    return None"
   ]
  },
  {
   "cell_type": "code",
   "execution_count": 58,
   "metadata": {
    "collapsed": true
   },
   "outputs": [],
   "source": [
    "binary_search_test_list = [1,4,6,67,42654,1231,54333]"
   ]
  },
  {
   "cell_type": "code",
   "execution_count": 59,
   "metadata": {},
   "outputs": [
    {
     "data": {
      "text/plain": [
       "3"
      ]
     },
     "execution_count": 59,
     "metadata": {},
     "output_type": "execute_result"
    }
   ],
   "source": [
    "binary_search(binary_search_test_list, 67)"
   ]
  },
  {
   "cell_type": "markdown",
   "metadata": {},
   "source": [
    "# Selection search"
   ]
  },
  {
   "cell_type": "code",
   "execution_count": 4,
   "metadata": {
    "collapsed": true
   },
   "outputs": [],
   "source": [
    "def findSmallest(arr):\n",
    "    smallest = arr[0]\n",
    "    sindex = 0\n",
    "    \n",
    "    for i,item in enumerate(arr):\n",
    "        if item <smallest:\n",
    "            smallest = item\n",
    "            sindex = i\n",
    "            pass\n",
    "    return sindex"
   ]
  },
  {
   "cell_type": "code",
   "execution_count": 5,
   "metadata": {
    "collapsed": true
   },
   "outputs": [],
   "source": [
    "def select_sort(alist):\n",
    "    sort = []\n",
    "    while len(alist)>0: \n",
    "        sindex = findSmallest(alist)\n",
    "        sort.append(alist[sindex])\n",
    "        alist.remove(alist[sindex])\n",
    "    return sort"
   ]
  },
  {
   "cell_type": "code",
   "execution_count": 6,
   "metadata": {
    "collapsed": true
   },
   "outputs": [],
   "source": [
    "select_sort_test_list = [2,1,4,6,67,42654,1231,32,43,12,3,54333]"
   ]
  },
  {
   "cell_type": "code",
   "execution_count": 7,
   "metadata": {},
   "outputs": [
    {
     "data": {
      "text/plain": [
       "[1, 2, 3, 4, 6, 12, 32, 43, 67, 1231, 42654, 54333]"
      ]
     },
     "execution_count": 7,
     "metadata": {},
     "output_type": "execute_result"
    }
   ],
   "source": [
    "select_sort(select_sort_test_list)"
   ]
  },
  {
   "cell_type": "markdown",
   "metadata": {
    "collapsed": true
   },
   "source": [
    "# Recursion"
   ]
  },
  {
   "cell_type": "code",
   "execution_count": 8,
   "metadata": {
    "collapsed": true
   },
   "outputs": [],
   "source": [
    "def factorial(x):\n",
    "    if x==1:\n",
    "        return 1\n",
    "    else:\n",
    "        return x*factorial(x-1)\n",
    "        "
   ]
  },
  {
   "cell_type": "code",
   "execution_count": 9,
   "metadata": {},
   "outputs": [
    {
     "data": {
      "text/plain": [
       "40320"
      ]
     },
     "execution_count": 9,
     "metadata": {},
     "output_type": "execute_result"
    }
   ],
   "source": [
    "factorial(8)"
   ]
  },
  {
   "cell_type": "markdown",
   "metadata": {
    "collapsed": true
   },
   "source": [
    "# Recursion-Farmer\n",
    "> 农场问题，请问给一块农场可以将此农场划分为多少个正方块？要求正方块尽可能的大"
   ]
  },
  {
   "cell_type": "code",
   "execution_count": 10,
   "metadata": {
    "collapsed": true
   },
   "outputs": [],
   "source": [
    "def farmer(x,y):\n",
    "    divid = x/y \n",
    "    if (divid - int(divid)) != 0:\n",
    "        return int(divid)+farmer(y, x-int(divid)*y)\n",
    "    else:\n",
    "        return int(divid)"
   ]
  },
  {
   "cell_type": "code",
   "execution_count": 11,
   "metadata": {},
   "outputs": [
    {
     "data": {
      "text/plain": [
       "5"
      ]
     },
     "execution_count": 11,
     "metadata": {},
     "output_type": "execute_result"
    }
   ],
   "source": [
    "farmer(7,3)"
   ]
  },
  {
   "cell_type": "markdown",
   "metadata": {},
   "source": [
    "# Recursion-Quick sort"
   ]
  },
  {
   "cell_type": "code",
   "execution_count": 12,
   "metadata": {
    "collapsed": true
   },
   "outputs": [],
   "source": [
    "def quicksort(arr):\n",
    "    if len(arr)<2:\n",
    "        return arr\n",
    "    else:\n",
    "        pivot = arr[0]\n",
    "        less = [i for i in arr[1:] if i <= pivot]\n",
    "        greater = [i for i in arr[1:] if i > pivot]\n",
    "    return quicksort(less) + [pivot]+ quicksort(greater)"
   ]
  },
  {
   "cell_type": "code",
   "execution_count": 13,
   "metadata": {},
   "outputs": [
    {
     "data": {
      "text/plain": [
       "[1, 2, 3, 4, 5, 7]"
      ]
     },
     "execution_count": 13,
     "metadata": {},
     "output_type": "execute_result"
    }
   ],
   "source": [
    "quicksort([2,7,5,4,3,1])"
   ]
  },
  {
   "cell_type": "markdown",
   "metadata": {
    "collapsed": true
   },
   "source": [
    "# Graph - BFS(Breadth-first-search)"
   ]
  },
  {
   "cell_type": "code",
   "execution_count": 14,
   "metadata": {},
   "outputs": [
    {
     "name": "stdout",
     "output_type": "stream",
     "text": [
      "{'I': ['aaa', 'bbb', 'abb'], 'aaa': ['bbc', 'abb', 'bxc'], 'bbb': ['bbcf', 'bfcf', 'abbf'], 'abb': ['s'], 'bbc': [], 'bxc': [], 'bbcf': [], 'bfcf': [], 'abbf': [], 's': []}\n"
     ]
    }
   ],
   "source": [
    "# create relationship graph\n",
    "graph = {}\n",
    "graph[\"I\"] = ['aaa','bbb','abb']\n",
    "graph[\"aaa\"] = ['bbc','abb','bxc',]\n",
    "graph[\"bbb\"] = ['bbcf','bfcf','abbf']\n",
    "graph[\"abb\"] = ['s']\n",
    "graph[\"bbc\"] = []\n",
    "graph[\"bxc\"] = []\n",
    "graph[\"bbcf\"] = []\n",
    "graph[\"bfcf\"] = []\n",
    "graph[\"abbf\"] = []\n",
    "graph[\"s\"] = []\n",
    "def person_is_seller(person):\n",
    "    if person[-2] == 'x':\n",
    "        return True\n",
    "    else:\n",
    "        return False\n",
    "print(graph)"
   ]
  },
  {
   "cell_type": "code",
   "execution_count": 15,
   "metadata": {
    "collapsed": true
   },
   "outputs": [],
   "source": [
    "from collections import deque\n",
    "def bfs(name):\n",
    "    queue = deque()\n",
    "    queue += graph[name]\n",
    "    searched=[]\n",
    "    while queue:\n",
    "        person = queue.popleft()\n",
    "        if person not in searched:\n",
    "            if person_is_seller(person):\n",
    "                print(person+\" is a seller\")\n",
    "                return True\n",
    "            else:\n",
    "                queue += graph[person]\n",
    "                searched.append(person)\n",
    "    return False"
   ]
  },
  {
   "cell_type": "code",
   "execution_count": 16,
   "metadata": {},
   "outputs": [
    {
     "name": "stdout",
     "output_type": "stream",
     "text": [
      "bxc is a seller\n"
     ]
    },
    {
     "data": {
      "text/plain": [
       "True"
      ]
     },
     "execution_count": 16,
     "metadata": {},
     "output_type": "execute_result"
    }
   ],
   "source": [
    "bfs('I')"
   ]
  },
  {
   "cell_type": "markdown",
   "metadata": {
    "collapsed": true
   },
   "source": [
    "# Dijkstra "
   ]
  },
  {
   "cell_type": "markdown",
   "metadata": {
    "collapsed": true
   },
   "source": [
    "![title](Dijkstra.jpg)"
   ]
  },
  {
   "cell_type": "markdown",
   "metadata": {},
   "source": [
    "## step1 Create structure"
   ]
  },
  {
   "cell_type": "code",
   "execution_count": 1,
   "metadata": {
    "collapsed": true
   },
   "outputs": [],
   "source": [
    "# Create a graph\n",
    "graph = {}\n",
    "graph['start'] = {}\n",
    "graph['start']['a'] = 6\n",
    "graph['start']['b'] = 2\n",
    "\n",
    "graph['a'] = {}\n",
    "graph['a']['final'] = 1\n",
    "\n",
    "graph['b'] = {}\n",
    "graph['b']['a'] = 3\n",
    "graph['b']['final'] = 5\n",
    "\n",
    "graph['final'] = {}"
   ]
  },
  {
   "cell_type": "code",
   "execution_count": 2,
   "metadata": {},
   "outputs": [
    {
     "data": {
      "text/plain": [
       "{'a': {'final': 1},\n",
       " 'b': {'a': 3, 'final': 5},\n",
       " 'final': {},\n",
       " 'start': {'a': 6, 'b': 2}}"
      ]
     },
     "execution_count": 2,
     "metadata": {},
     "output_type": "execute_result"
    }
   ],
   "source": [
    "graph"
   ]
  },
  {
   "cell_type": "code",
   "execution_count": 3,
   "metadata": {},
   "outputs": [
    {
     "name": "stdout",
     "output_type": "stream",
     "text": [
      "dict_keys(['a', 'b'])\n"
     ]
    }
   ],
   "source": [
    "print(graph['start'].keys())"
   ]
  },
  {
   "cell_type": "code",
   "execution_count": 4,
   "metadata": {
    "collapsed": true
   },
   "outputs": [],
   "source": [
    "# Create costs\n",
    "infinity = float('inf')\n",
    "costs = {}\n",
    "costs['a'] = 6\n",
    "costs['b'] = 2\n",
    "costs['final'] = infinity"
   ]
  },
  {
   "cell_type": "code",
   "execution_count": 5,
   "metadata": {},
   "outputs": [
    {
     "name": "stdout",
     "output_type": "stream",
     "text": [
      "{'a': 'start', 'b': 'start', 'final': None}\n"
     ]
    }
   ],
   "source": [
    "# Create parents\n",
    "parents = {}\n",
    "parents['a'] = 'start'\n",
    "parents['b'] = 'start'\n",
    "parents['final'] = None\n",
    "print(parents)"
   ]
  },
  {
   "cell_type": "code",
   "execution_count": 6,
   "metadata": {
    "collapsed": true
   },
   "outputs": [],
   "source": [
    "# Create processed list\n",
    "processed = []"
   ]
  },
  {
   "cell_type": "markdown",
   "metadata": {},
   "source": [
    "## Step2 Dijkstra algorithm"
   ]
  },
  {
   "cell_type": "code",
   "execution_count": 12,
   "metadata": {
    "collapsed": true
   },
   "outputs": [],
   "source": [
    "def find_lowest_cost_node(costs):\n",
    "    lowest_cost = float('inf')\n",
    "    lowest_cost_node = None\n",
    "    for node in costs:\n",
    "        cost = costs[node]\n",
    "        if cost < lowest_cost and node not in processed:\n",
    "            lowest_cost = cost\n",
    "            lowest_cost_node = node\n",
    "            pass\n",
    "    return lowest_cost_node"
   ]
  },
  {
   "cell_type": "code",
   "execution_count": 13,
   "metadata": {
    "collapsed": true
   },
   "outputs": [],
   "source": [
    "def dijkstra(struc):\n",
    "    graph = struc['graph']\n",
    "    costs = struc['costs']\n",
    "    parents = struc['parents']\n",
    "    processed = struc['processed']\n",
    "    \n",
    "    node = find_lowest_cost_node(costs)\n",
    "    while node is not None:\n",
    "        cost = costs[node]\n",
    "        neighbors = graph[node]\n",
    "        for n in neighbors.keys():\n",
    "            new_cost = cost+neighbors[n]\n",
    "            if costs[n] > new_cost:\n",
    "                costs[n] = new_cost\n",
    "                parents[n] = node\n",
    "        processed.append(node)\n",
    "        node = find_lowest_cost_node(costs)\n",
    "    return costs,parents"
   ]
  },
  {
   "cell_type": "code",
   "execution_count": 14,
   "metadata": {
    "collapsed": true
   },
   "outputs": [],
   "source": [
    "struc = {}\n",
    "struc['graph'] = graph\n",
    "struc['costs'] = costs\n",
    "struc['parents'] = parents\n",
    "struc['processed'] = processed"
   ]
  },
  {
   "cell_type": "code",
   "execution_count": 15,
   "metadata": {},
   "outputs": [
    {
     "data": {
      "text/plain": [
       "({'a': 5, 'b': 2, 'final': 6}, {'a': 'b', 'b': 'start', 'final': 'a'})"
      ]
     },
     "execution_count": 15,
     "metadata": {},
     "output_type": "execute_result"
    }
   ],
   "source": [
    "dijkstra(struc)"
   ]
  },
  {
   "cell_type": "markdown",
   "metadata": {
    "collapsed": true
   },
   "source": [
    "# Bellman Ford"
   ]
  },
  {
   "cell_type": "markdown",
   "metadata": {},
   "source": [
    "![title](Bell.jpg)"
   ]
  },
  {
   "cell_type": "code",
   "execution_count": 1,
   "metadata": {
    "collapsed": true
   },
   "outputs": [],
   "source": [
    "# Create graph\n",
    "graph = {}\n",
    "graph['a'] = {}\n",
    "graph['a']['b'] = -1\n",
    "graph['a']['c'] = 4\n",
    "\n",
    "graph['b'] = {}\n",
    "graph['b']['e'] = 2\n",
    "graph['b']['d'] = 2\n",
    "graph['b']['c'] = 3\n",
    "\n",
    "graph['d'] = {}\n",
    "graph['d']['b'] = 1\n",
    "graph['d']['c'] = 5\n",
    "\n",
    "graph['e'] = {}\n",
    "graph['e']['d'] = -3\n",
    "\n",
    "graph['c'] = {}"
   ]
  },
  {
   "cell_type": "code",
   "execution_count": 2,
   "metadata": {},
   "outputs": [
    {
     "name": "stdout",
     "output_type": "stream",
     "text": [
      "{'a': {'b': -1, 'c': 4}, 'b': {'e': 2, 'd': 2, 'c': 3}, 'd': {'b': 1, 'c': 5}, 'e': {'d': -3}, 'c': {}}\n"
     ]
    }
   ],
   "source": [
    "print(graph)"
   ]
  },
  {
   "cell_type": "code",
   "execution_count": 11,
   "metadata": {
    "collapsed": true
   },
   "outputs": [],
   "source": [
    "def bellman_ford(graph, source):\n",
    "    \n",
    "    distance = {}\n",
    "    parent = {}\n",
    "    \n",
    "    for node in graph:\n",
    "        distance[node] = float( 'Inf' )\n",
    "        parent[node] = None\n",
    "    distance[source] = 0\n",
    " \n",
    "    for i in range( len( graph ) - 1 ): \n",
    "        for from_node in graph:\n",
    "            for to_node in graph[from_node]:\n",
    "                if distance[to_node] > graph[from_node][to_node] + distance[from_node]:\n",
    "                    distance[to_node] = graph[from_node][to_node] + distance[from_node]\n",
    "                    parent[to_node] = from_node\n",
    " \n",
    "    for from_node in graph:\n",
    "        for to_node in graph[from_node]:\n",
    "            if distance[to_node] > distance[from_node] + graph[from_node][to_node]:\n",
    "                return None, None\n",
    " \n",
    "    return distance, parent"
   ]
  },
  {
   "cell_type": "code",
   "execution_count": 12,
   "metadata": {
    "collapsed": true
   },
   "outputs": [],
   "source": [
    "distance, parent = bellman_ford( graph, 'a' )"
   ]
  },
  {
   "cell_type": "code",
   "execution_count": 8,
   "metadata": {},
   "outputs": [
    {
     "name": "stdout",
     "output_type": "stream",
     "text": [
      "{'a': 0, 'b': -1, 'd': -2, 'e': 1, 'c': 2}\n"
     ]
    }
   ],
   "source": [
    "print(distance)"
   ]
  },
  {
   "cell_type": "code",
   "execution_count": null,
   "metadata": {
    "collapsed": true
   },
   "outputs": [],
   "source": []
  }
 ],
 "metadata": {
  "kernelspec": {
   "display_name": "Python 3",
   "language": "python",
   "name": "python3"
  },
  "language_info": {
   "codemirror_mode": {
    "name": "ipython",
    "version": 3
   },
   "file_extension": ".py",
   "mimetype": "text/x-python",
   "name": "python",
   "nbconvert_exporter": "python",
   "pygments_lexer": "ipython3",
   "version": "3.6.2"
  }
 },
 "nbformat": 4,
 "nbformat_minor": 2
}
